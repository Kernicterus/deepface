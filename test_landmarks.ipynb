{
 "cells": [
  {
   "cell_type": "code",
   "execution_count": 6,
   "metadata": {},
   "outputs": [],
   "source": [
    "import cv2\n",
    "import mediapipe as mp"
   ]
  },
  {
   "cell_type": "code",
   "execution_count": 7,
   "metadata": {},
   "outputs": [],
   "source": [
    "# cap = cv2.VideoCapture(0)\n",
    "# mp_face_mesh = mp.solutions.face_mesh\n",
    "# mp_drawing = mp.solutions.drawing_utils\n",
    "\n",
    "# with mp_face_mesh.FaceMesh(\n",
    "#     max_num_faces=1,\n",
    "#     refine_landmarks=True,\n",
    "#     min_detection_confidence=0.5,\n",
    "#     min_tracking_confidence=0.5\n",
    "# ) as face_mesh:\n",
    "\n",
    "#     while cap.isOpened():\n",
    "#         ret, frame = cap.read()\n",
    "#         if not ret:\n",
    "#             break\n",
    "\n",
    "#         results = face_mesh.process(frame)\n",
    "#         if results.multi_face_landmarks:\n",
    "#             for face_landmarks in results.multi_face_landmarks:\n",
    "#                 mp_drawing.draw_landmarks(\n",
    "#                     image=frame,\n",
    "#                     landmark_list=face_landmarks,\n",
    "#                     connections=mp_face_mesh.FACEMESH_TESSELATION,\n",
    "#                     landmark_drawing_spec=None,\n",
    "#                     connection_drawing_spec=mp_drawing.DrawingSpec(color=(0, 255, 0), thickness=1, circle_radius=1)\n",
    "#                 )\n",
    "#         cv2.imshow(\"My webcam capture\", cv2.flip(frame, 1))\n",
    "#         if cv2.waitKey(1) & 0xFF == ord('q'):\n",
    "#             break\n",
    "\n",
    "# cap.release()\n",
    "# cv2.destroyAllWindows()\n"
   ]
  },
  {
   "cell_type": "code",
   "execution_count": 8,
   "metadata": {},
   "outputs": [],
   "source": [
    "from mediapipe.tasks import python\n",
    "from mediapipe.tasks.python import vision"
   ]
  },
  {
   "cell_type": "code",
   "execution_count": 13,
   "metadata": {},
   "outputs": [
    {
     "ename": "RuntimeError",
     "evalue": "Unable to open file at c:\\Users\\N_pro\\Anaconda3\\envs\\deepface_env\\Lib\\site-packages/F:\\PythonProjects\\deepface\\face_landmarker.task, errno=22",
     "output_type": "error",
     "traceback": [
      "\u001b[31m---------------------------------------------------------------------------\u001b[39m",
      "\u001b[31mRuntimeError\u001b[39m                              Traceback (most recent call last)",
      "\u001b[36mCell\u001b[39m\u001b[36m \u001b[39m\u001b[32mIn[13]\u001b[39m\u001b[32m, line 17\u001b[39m\n\u001b[32m     10\u001b[39m options = FaceLandmarkerOptions(\n\u001b[32m     11\u001b[39m     base_options=BaseOptions(model_asset_path=model_path),\n\u001b[32m     12\u001b[39m     running_mode=VisionRunningMode.VIDEO\n\u001b[32m     13\u001b[39m     )\n\u001b[32m     15\u001b[39m cap = cv2.VideoCapture(\u001b[32m0\u001b[39m)\n\u001b[32m---> \u001b[39m\u001b[32m17\u001b[39m \u001b[38;5;28;01mwith\u001b[39;00m \u001b[43mFaceLandmarker\u001b[49m\u001b[43m.\u001b[49m\u001b[43mcreate_from_options\u001b[49m\u001b[43m(\u001b[49m\u001b[43moptions\u001b[49m\u001b[43m)\u001b[49m \u001b[38;5;28;01mas\u001b[39;00m landmarker:\n\u001b[32m     18\u001b[39m   \u001b[38;5;28;01mwhile\u001b[39;00m cap.isOpened():\n\u001b[32m     19\u001b[39m     ret, frame = cap.read()\n",
      "\u001b[36mFile \u001b[39m\u001b[32mc:\\Users\\N_pro\\Anaconda3\\envs\\deepface_env\\Lib\\site-packages\\mediapipe\\tasks\\python\\vision\\face_landmarker.py:3104\u001b[39m, in \u001b[36mFaceLandmarker.create_from_options\u001b[39m\u001b[34m(cls, options)\u001b[39m\n\u001b[32m   3091\u001b[39m   output_streams.append(\n\u001b[32m   3092\u001b[39m       \u001b[33m'\u001b[39m\u001b[33m:\u001b[39m\u001b[33m'\u001b[39m.join([_FACE_GEOMETRY_TAG, _FACE_GEOMETRY_STREAM_NAME])\n\u001b[32m   3093\u001b[39m   )\n\u001b[32m   3095\u001b[39m task_info = _TaskInfo(\n\u001b[32m   3096\u001b[39m     task_graph=_TASK_GRAPH_NAME,\n\u001b[32m   3097\u001b[39m     input_streams=[\n\u001b[32m   (...)\u001b[39m\u001b[32m   3102\u001b[39m     task_options=options,\n\u001b[32m   3103\u001b[39m )\n\u001b[32m-> \u001b[39m\u001b[32m3104\u001b[39m \u001b[38;5;28;01mreturn\u001b[39;00m \u001b[38;5;28;43mcls\u001b[39;49m\u001b[43m(\u001b[49m\n\u001b[32m   3105\u001b[39m \u001b[43m    \u001b[49m\u001b[43mtask_info\u001b[49m\u001b[43m.\u001b[49m\u001b[43mgenerate_graph_config\u001b[49m\u001b[43m(\u001b[49m\n\u001b[32m   3106\u001b[39m \u001b[43m        \u001b[49m\u001b[43menable_flow_limiting\u001b[49m\u001b[43m=\u001b[49m\u001b[43moptions\u001b[49m\u001b[43m.\u001b[49m\u001b[43mrunning_mode\u001b[49m\n\u001b[32m   3107\u001b[39m \u001b[43m        \u001b[49m\u001b[43m==\u001b[49m\u001b[43m \u001b[49m\u001b[43m_RunningMode\u001b[49m\u001b[43m.\u001b[49m\u001b[43mLIVE_STREAM\u001b[49m\n\u001b[32m   3108\u001b[39m \u001b[43m    \u001b[49m\u001b[43m)\u001b[49m\u001b[43m,\u001b[49m\n\u001b[32m   3109\u001b[39m \u001b[43m    \u001b[49m\u001b[43moptions\u001b[49m\u001b[43m.\u001b[49m\u001b[43mrunning_mode\u001b[49m\u001b[43m,\u001b[49m\n\u001b[32m   3110\u001b[39m \u001b[43m    \u001b[49m\u001b[43mpackets_callback\u001b[49m\u001b[43m \u001b[49m\u001b[38;5;28;43;01mif\u001b[39;49;00m\u001b[43m \u001b[49m\u001b[43moptions\u001b[49m\u001b[43m.\u001b[49m\u001b[43mresult_callback\u001b[49m\u001b[43m \u001b[49m\u001b[38;5;28;43;01melse\u001b[39;49;00m\u001b[43m \u001b[49m\u001b[38;5;28;43;01mNone\u001b[39;49;00m\u001b[43m,\u001b[49m\n\u001b[32m   3111\u001b[39m \u001b[43m\u001b[49m\u001b[43m)\u001b[49m\n",
      "\u001b[36mFile \u001b[39m\u001b[32mc:\\Users\\N_pro\\Anaconda3\\envs\\deepface_env\\Lib\\site-packages\\mediapipe\\tasks\\python\\vision\\core\\base_vision_task_api.py:70\u001b[39m, in \u001b[36mBaseVisionTaskApi.__init__\u001b[39m\u001b[34m(self, graph_config, running_mode, packet_callback)\u001b[39m\n\u001b[32m     65\u001b[39m \u001b[38;5;28;01melif\u001b[39;00m packet_callback:\n\u001b[32m     66\u001b[39m   \u001b[38;5;28;01mraise\u001b[39;00m \u001b[38;5;167;01mValueError\u001b[39;00m(\n\u001b[32m     67\u001b[39m       \u001b[33m'\u001b[39m\u001b[33mThe vision task is in image or video mode, a user-defined result \u001b[39m\u001b[33m'\u001b[39m\n\u001b[32m     68\u001b[39m       \u001b[33m'\u001b[39m\u001b[33mcallback should not be provided.\u001b[39m\u001b[33m'\u001b[39m\n\u001b[32m     69\u001b[39m   )\n\u001b[32m---> \u001b[39m\u001b[32m70\u001b[39m \u001b[38;5;28mself\u001b[39m._runner = \u001b[43m_TaskRunner\u001b[49m\u001b[43m.\u001b[49m\u001b[43mcreate\u001b[49m\u001b[43m(\u001b[49m\u001b[43mgraph_config\u001b[49m\u001b[43m,\u001b[49m\u001b[43m \u001b[49m\u001b[43mpacket_callback\u001b[49m\u001b[43m)\u001b[49m\n\u001b[32m     71\u001b[39m \u001b[38;5;28mself\u001b[39m._running_mode = running_mode\n",
      "\u001b[31mRuntimeError\u001b[39m: Unable to open file at c:\\Users\\N_pro\\Anaconda3\\envs\\deepface_env\\Lib\\site-packages/F:\\PythonProjects\\deepface\\face_landmarker.task, errno=22"
     ]
    }
   ],
   "source": [
    "model_path = r\"F:/PythonProjects/deepface/face_landmarker.task\"\n",
    "\n",
    "BaseOptions = mp.tasks.BaseOptions\n",
    "FaceLandmarker = mp.tasks.vision.FaceLandmarker\n",
    "FaceLandmarkerOptions = mp.tasks.vision.FaceLandmarkerOptions\n",
    "FaceLandmarkerResult = mp.tasks.vision.FaceLandmarkerResult\n",
    "VisionRunningMode = mp.tasks.vision.RunningMode\n",
    "\n",
    "\n",
    "options = FaceLandmarkerOptions(\n",
    "    base_options=BaseOptions(model_asset_path=model_path),\n",
    "    running_mode=VisionRunningMode.VIDEO\n",
    "    )\n",
    "\n",
    "cap = cv2.VideoCapture(0)\n",
    "\n",
    "with FaceLandmarker.create_from_options(options) as landmarker:\n",
    "  while cap.isOpened():\n",
    "    ret, frame = cap.read()\n",
    "    frame_timestamp_ms = int(cap.get(cv2.CAP_PROP_POS_MSEC))\n",
    "    if not ret:\n",
    "      break\n",
    "    mp_image = mp.Image(image_format=mp.ImageFormat.SRGB, data=frame)\n",
    "    face_landmarker_result = landmarker.detect_for_video(mp_image, frame_timestamp_ms)\n",
    "    cv2.imshow(\"My webcam capture\", cv2.flip(frame, 1))\n",
    "    if cv2.waitKey(1) & 0xFF == ord('q'):\n",
    "        break\n",
    "    \n",
    "cap.release()\n",
    "cv2.destroyAllWindows()\n"
   ]
  }
 ],
 "metadata": {
  "kernelspec": {
   "display_name": "deepface_env",
   "language": "python",
   "name": "python3"
  },
  "language_info": {
   "codemirror_mode": {
    "name": "ipython",
    "version": 3
   },
   "file_extension": ".py",
   "mimetype": "text/x-python",
   "name": "python",
   "nbconvert_exporter": "python",
   "pygments_lexer": "ipython3",
   "version": "3.12.9"
  }
 },
 "nbformat": 4,
 "nbformat_minor": 2
}
